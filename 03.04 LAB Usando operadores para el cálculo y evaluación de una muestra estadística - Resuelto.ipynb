{
 "cells": [
  {
   "cell_type": "markdown",
   "id": "cd4bd07a",
   "metadata": {},
   "source": [
    "---\n",
    "\n",
    "# **LAB: Usando operadores para el cálculo y evaluación de una muestra estadística - Inicio**\n",
    "\n",
    "--- \n",
    "\n",
    "> En este LAB se exploran los operadores aritméticos, lógicos y de comparación. Se revisa también el manejo de precedencia de ejecución de los operadores.\n"
   ]
  },
  {
   "cell_type": "markdown",
   "id": "3b9b253e",
   "metadata": {},
   "source": [
    "### <div style=\"color:salmon;\">PARTE 1:</div>\n",
    "\n",
    "Se desea crear un programa para calcular el tamaño de una muestra estadística. \n",
    "\n",
    "La fórmula es la siguiente:\n",
    "\n",
    "$$n=\\frac{Z^2pqN}{NE^2+Z^2pq}$$\n",
    "\n",
    "\n",
    "Donde:\n",
    "- `Z` es el coeficiente de confianza. Lo más común es 90%=1.645, 95%=1.96, 99%=2.576\n",
    "- `p` es la probabilidad de que ocurra un evento; si no se conoce, típicamente es del 50% (0.5).\n",
    "- `q` es la probabilidad de que no ocurra el evento; es (`1-p`)\n",
    "- `E` es el error máximo aceptado; típicamente, es el 5% (0.05)\n",
    "- `N` es el tamaño de la población.\n",
    "\n",
    "Supón que tienes el siguiente escenario: El tamaño total de la población (`N`) es de 870; como no se tienen estudios similares que indiquen una probabidad conocida, se asume la misma probabilidad a que las cosas ocurran a que no ocurran, por lo cual `p` y `q` son del 50%. Supongamos que el error aceptado (`E`) es del 5%, y se desea tener un coeficiente de confianza del 99%, por lo cual Z es igual a 2.576.\n"
   ]
  },
  {
   "cell_type": "code",
   "execution_count": null,
   "id": "81307757",
   "metadata": {},
   "outputs": [],
   "source": [
    "# Declara las variables, cuidando que sean del tipo correcto.\n",
    "\n",
    "Z=2.576\n",
    "p=0.50\n",
    "q=0.50\n",
    "N=870\n",
    "E=0.05"
   ]
  },
  {
   "cell_type": "markdown",
   "id": "45d3c9f2",
   "metadata": {},
   "source": [
    "Referencia:\n",
    "\n",
    "$$n=\\frac{Z^2pqN}{NE^2+Z^2pq}$$"
   ]
  },
  {
   "cell_type": "code",
   "execution_count": null,
   "id": "44ca85ae",
   "metadata": {},
   "outputs": [],
   "source": [
    "# Codifica la fórmula, para calcular el tamaño de la muestra (n), y muestra el resultado.\n",
    "\n",
    "# Toma en cuenta la propiedad conmutativa \"Cuando multiplicamos, el orden de los \n",
    "# factores no afecta al producto\".\n",
    "\n",
    "# El resultado debe ser entero. El valor correcto es 376.\n",
    "\n",
    "n=int((Z**2*p*q*N)/((N*E**2)+(Z**2*p*q)))\n",
    "\n",
    "print(n)"
   ]
  },
  {
   "cell_type": "markdown",
   "id": "5388edde",
   "metadata": {},
   "source": [
    "### <div style=\"color:salmon;\">PARTE 2:</div>"
   ]
  },
  {
   "cell_type": "code",
   "execution_count": null,
   "id": "b613956a",
   "metadata": {},
   "outputs": [],
   "source": [
    "# Muestra si la muestra es menor a 100, o si está entre 350 y 400.\n",
    "\n",
    "print((n<100) or (n>=350 and n<=400))"
   ]
  }
 ],
 "metadata": {
  "kernelspec": {
   "display_name": "Python 3 (ipykernel)",
   "language": "python",
   "name": "python3"
  },
  "language_info": {
   "codemirror_mode": {
    "name": "ipython",
    "version": 3
   },
   "file_extension": ".py",
   "mimetype": "text/x-python",
   "name": "python",
   "nbconvert_exporter": "python",
   "pygments_lexer": "ipython3",
   "version": "3.10.9"
  }
 },
 "nbformat": 4,
 "nbformat_minor": 5
}
