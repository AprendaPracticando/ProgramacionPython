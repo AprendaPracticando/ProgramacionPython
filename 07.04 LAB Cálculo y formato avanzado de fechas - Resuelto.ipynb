{
 "cells": [
  {
   "cell_type": "markdown",
   "id": "5a3a24e1",
   "metadata": {},
   "source": [
    "---\n",
    "\n",
    "# **LAB Cálculo y formato avanzado de fechas - Resuelto**\n",
    "\n",
    "---"
   ]
  },
  {
   "cell_type": "markdown",
   "id": "4687b269",
   "metadata": {},
   "source": [
    "Un servicio de streaming en la Web vende tarjetas que permiten el uso de la plataforma por 30 días.\n",
    "\n",
    "El usuario ingresa al sitio Web y activa su plataforma, capturando la fecha y la hora en que desea activar su servicio; a partir de ahí, el sistema le debe notificar el plazo de la siguiente manera (por ejemplo):\n",
    "\n",
    "```\n",
    "Fecha y hora de activación: dd/mm/aaaa hh:mm\n",
    "\n",
    "```\n",
    "\n",
    "Y el programa debe mostrar, usando formatos largos de días y meses, de qué momento a qué momento estará disponible el servicio.\n",
    "\n",
    "El programa debe capturar la fecha correcta, misma que no se debe omitir.\n",
    "\n",
    "Utiliza la expresión regular proporcionada, para validar la entrada (no es muy rigurosa, pero servirá para el ejemplo)."
   ]
  },
  {
   "cell_type": "code",
   "execution_count": null,
   "id": "0d2bac98",
   "metadata": {},
   "outputs": [],
   "source": [
    "# Importa aquí los módulos que requieres para trabajar con RegEx\n",
    "# y con fechas. Usa el alias dt, para el módulo datetime\n",
    "# También importa el módulo locale, para la configuración local.\n",
    "\n",
    "import re\n",
    "import datetime as dt\n",
    "import locale\n",
    "\n",
    "# Modifica la configuración, para usar la configuración regional de\n",
    "# México\n",
    "\n",
    "locale.setlocale(locale.LC_ALL, 'es-MX')\n",
    "\n",
    "# Patrón de expresión regular a utilizar.\n",
    "\n",
    "re_fecha_hora=\"^[0-9]{2}-[0-9]{2}-[0-9]{4}\\s[0-9]{2}[:][0-9]{2}$\"\n",
    "\n",
    "print(bool(re.match(re_fecha_hora,\"12-18-2022 10:30\")))\n"
   ]
  },
  {
   "cell_type": "code",
   "execution_count": null,
   "id": "bce07bd4",
   "metadata": {},
   "outputs": [],
   "source": [
    "# Elabora una función llamada FechaHoraInfo(), que reciba un \n",
    "# string con formato dd-mm-aaaa hh:mm, y que retorne 5 valores\n",
    "# dia, mes, año, hora, minuto, en formato int.\n",
    "\n",
    "def FechaHoraInfo(fecha):\n",
    "    dia=int(fecha[0:2])\n",
    "    mes=int(fecha[3:5])\n",
    "    año=int(fecha[6:10])\n",
    "    hora=int(fecha[11:13])\n",
    "    minutos=int(fecha[-2:])\n",
    "    return dia, mes, año, hora, minutos\n",
    "\n",
    "print(FechaHoraInfo(\"12-18-2022 10:30\"))"
   ]
  },
  {
   "cell_type": "code",
   "execution_count": null,
   "id": "1da3baa6",
   "metadata": {},
   "outputs": [],
   "source": [
    "# Declara una variable llamada fecha_activacion, donde almacenarás\n",
    "# la fecha y  hora de activación.  Declarala asignándole el valor de None.\n",
    "\n",
    "fecha_activacion=None\n",
    "\n",
    "# Genera un procedimiento de validación estándar, donde preguntes\n",
    "# la fecha y hora de activación del servicio, en formato dd-mm-aaaa hh:mm\n",
    "# El dato no se debe omitir (usar while infinito), debe cumplir con el\n",
    "# patrón de expresión regular re_fecha_hora, y debe ser una fecha \n",
    "# válida (validar con try).\n",
    "# Al final, si todo sale bien, asigna la equivalencia \n",
    "# en objeto datetime, a la variable fecha_activacion\n",
    "\n",
    "# Inicia un while infinito\n",
    "while True:\n",
    "    \n",
    "    # Inicia un bloque try.\n",
    "    try:\n",
    "        # Pregunta la fecha y hora de activación. \n",
    "        # No uses la variable fecha_activacion. Usa otra variable.\n",
    "        activacion=input(\"Fecha y hora de activacion: \")\n",
    "        \n",
    "        # Codifica un condicional. Si está vacío, mandar mensaje, y continue.\n",
    "        if (activacion==\"\"):\n",
    "            print(\"No se puede omitir\")\n",
    "            continue\n",
    "        \n",
    "        # Codifica una condicional. Si no cumple con la expresión regular, \n",
    "        # mandar mensaje y continue.\n",
    "        if (not bool(re.match(re_fecha_hora,activacion))):\n",
    "            print(\"No cumple con el formato dd-mm-aaaa hh:mm\")\n",
    "            continue\n",
    "            \n",
    "        # Si llega hasta aquí, es que se capturó el formato correcto.\n",
    "        # Utiliza la función FechaHoraInfo(), que retorna múltiples valores, y \n",
    "        # guarda los valores de retorno en las variables d, m, a, h, y n (día,\n",
    "        # mes, año, hora y minutos, respectivamente), pasando como parámetro\n",
    "        # el valor capturado\n",
    "\n",
    "        (d,m,a,h,n) = FechaHoraInfo(activacion)\n",
    "        \n",
    "        # Con los valores de las variables d,m,a,h y n, intenta generar un objeto\n",
    "        # datetime, asignando el valor a fecha_activacion\n",
    "        \n",
    "        fecha_activacion=dt.datetime(a,m,d,h,n)\n",
    "        \n",
    "    # Iniciar el bloque except\n",
    "    except:\n",
    "\n",
    "        # En caso de que los datos proporcionados no correspondan a una fecha \n",
    "        # válida, se manda un mensaje, y continue.\n",
    "        print (\"La fecha no es una fecha válida\")\n",
    "        continue\n",
    "    \n",
    "    # Iniciar bloque else, porque todo salió bien. Salir con break.\n",
    "    else:\n",
    "        break\n",
    "\n",
    "print(fecha_activacion)\n",
    "print(type(fecha_activacion))"
   ]
  },
  {
   "cell_type": "code",
   "execution_count": null,
   "id": "c6cd767b",
   "metadata": {},
   "outputs": [],
   "source": [
    "# Declara una variable llamada fecha_conclusion, en la cual asignes\n",
    "# el resultado de sumarle 30 días a la fecha de activación, usando\n",
    "# timedelta.\n",
    "\n",
    "fecha_conclusion = fecha_activacion + dt.timedelta(days=30)\n"
   ]
  },
  {
   "cell_type": "code",
   "execution_count": null,
   "id": "048e902e",
   "metadata": {},
   "outputs": [],
   "source": [
    "# Usando strftime(), muestra el mensaje similar a este:\n",
    "# Servicio disponible desde:\n",
    "# miércoles 04 de mayo de 2022 a las 10:45 horas\n",
    "# Hasta:\n",
    "# viernes 03 de junio de 2022 a las 10:45 horas\n",
    "\n",
    "print(\"Servicio disponible desde:\")\n",
    "print(fecha_activacion.strftime(\"%A %d de %B de %Y a las %H:%M horas\"))\n",
    "print(\"Hasta:\")\n",
    "print(fecha_conclusion.strftime(\"%A %d de %B de %Y a las %H:%M horas\"))"
   ]
  }
 ],
 "metadata": {
  "kernelspec": {
   "display_name": "Python 3 (ipykernel)",
   "language": "python",
   "name": "python3"
  },
  "language_info": {
   "codemirror_mode": {
    "name": "ipython",
    "version": 3
   },
   "file_extension": ".py",
   "mimetype": "text/x-python",
   "name": "python",
   "nbconvert_exporter": "python",
   "pygments_lexer": "ipython3",
   "version": "3.10.9"
  }
 },
 "nbformat": 4,
 "nbformat_minor": 5
}
