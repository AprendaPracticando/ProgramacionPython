{
 "cells": [
  {
   "cell_type": "markdown",
   "id": "1f2a5712",
   "metadata": {},
   "source": [
    "---\n",
    "\n",
    "# **LAB: Comprobación de técnicas de validación de datos y formas - Inicio**\n",
    "\n",
    "---"
   ]
  },
  {
   "cell_type": "markdown",
   "id": "90934e8a",
   "metadata": {},
   "source": [
    "Una comercializadora tiene 3 grupos de productos: Insumos (IN), Herramientas (HR) y Maquinaria (MA). \n",
    "\n",
    "El ***código de producto*** se compone del prefijo del grupo de producto (IN, HR, o MA), más un guión, y cinco dígitos.\n",
    "\n",
    "El producto tiene una ***descripción***, formada de letras mayúsculas de la A a la Z, dígitos y espacios, con un mínimo de 5 caracteres y un máximo de 30.\n",
    "\n",
    "La empresa importa la maquinaria que vende, por lo cual, si el producto es maquinaria, necesariamente tiene un número de ***pedimento*** de importación, que consiste en una secuencia de  15 dígitos, necesariamente. Con este dato no se realizarán operaciones aritméticas, por lo cual, aunque es numérico, se maneja como un código. En caso de que el producto sea insumo o herramienta, el pedimento de importación no se pregunta.\n",
    "\n",
    "Cada producto tiene un precio máximo y un precio mínimo. Los precios no pueden ser negativos, y el precio máximo debe ser igual o mayor al mínimo.\n",
    "\n",
    "Ningún dato se puede omitir.\n",
    "\n",
    "Muestra un mensaje específico de cualquier regla de validación que no se cumpla.\n",
    "\n",
    "La forma debe salir cuando todos los campos estén correctos.\n",
    "\n",
    "Complementa el código a continuación.\n",
    "\n",
    "> ***IMPORTANTE:*** Por lo complejo y lo extenso de este LAB, te sugerimos que copies la solución de la versión resuelta. Abre la versión resuelta del ejercicio, y ve codificando paso a paso lo que se pide, analizando y entendiendo por qué se codificó de la manera en que se hizo, en la versión resuelta. Si decides hacerlo por tí mismo, puesde tomar bastante tiempo."
   ]
  },
  {
   "cell_type": "markdown",
   "id": "dcf1e9ca",
   "metadata": {},
   "source": [
    "### PARTE 1\n",
    "\n",
    "Realiza lo siguiente:\n",
    "\n",
    "1. Importa la librería requerida para usar expresiones regulares."
   ]
  },
  {
   "cell_type": "code",
   "execution_count": 1,
   "id": "996efd97",
   "metadata": {},
   "outputs": [],
   "source": [
    "# Importa la librería para el trabajo con expresiones regulares\n",
    "\n"
   ]
  },
  {
   "cell_type": "markdown",
   "id": "ac321a9d",
   "metadata": {},
   "source": [
    "2. Declara una variable para cada expresión regular que requieras en tus validaciones.\n",
    "    - Una para el código: `\"^(IN|HR|MA)-[0-9]{5}$\"`\n",
    "    - Una para la descripción: `\"^[A-Z ]{5,30}$\"`\n",
    "    - Una para el pedimento: `\"^[0-9]{15}$\"`\n",
    "    - Una para los precios: `\"^[0-9]+[.][0-9]+$\"`\n",
    "   "
   ]
  },
  {
   "cell_type": "code",
   "execution_count": 2,
   "id": "ad26090a",
   "metadata": {},
   "outputs": [],
   "source": [
    "# Declara una variable que contenga la expresión regular\n",
    "# para los diferentes restricciones requeridos por los datos\n",
    "# de la interfaz\n",
    "\n"
   ]
  },
  {
   "cell_type": "markdown",
   "id": "7121cad7",
   "metadata": {},
   "source": [
    "   \n",
    "3. Declara e inicializa las variables requeridas para el manejo de datos.\n",
    "    - Recuerda que los datos numéricos requieren una variable para ser capturada, y otra para almacenar el valor. La variable de captura se declara al momento de preguntar, no aquí.\n",
    " "
   ]
  },
  {
   "cell_type": "code",
   "execution_count": 3,
   "id": "fd1f6480",
   "metadata": {},
   "outputs": [],
   "source": [
    "# Declara las variables para manejar los datos de la interfaz\n",
    "# codigo, descripcion, pedimento, precio_minimo, precio_maximo\n",
    "\n"
   ]
  },
  {
   "cell_type": "markdown",
   "id": "091ae960",
   "metadata": {},
   "source": [
    " \n",
    "4. Declara una variable booleana por cada uno de los campos a capturar, e inicializalas a `True` (habilitadoras)"
   ]
  },
  {
   "cell_type": "code",
   "execution_count": 4,
   "id": "b93f0f0b",
   "metadata": {},
   "outputs": [],
   "source": [
    "# Declara una variable booleana para habilitar o inhabilitar la\n",
    "# captura de cada uno de los datos. Coloca el prefijo \"h_\"\n",
    "# y asígnales el valor True.\n",
    "\n"
   ]
  },
  {
   "cell_type": "markdown",
   "id": "f96a38db",
   "metadata": {},
   "source": [
    "### PARTE 2\n",
    "\n",
    "- Inicializa un `while` general, para la forma.\n",
    "    - Genera un bloque de código de captura por cada uno de los campos.\n",
    "    - Por cada campo, genera un condicional que evalúe si su habilitador es `True`.\n",
    "        - Si el campo es de tipo cadena, pregunta el dato correspondiente.\n",
    "        - Si el dato es numérico, declara una variable de paso, para capturar el dato correspondiente.\n",
    "        - Valida que no se omita; si se omite, envía el mensaje correspondiente y vuelve a preguntar.\n",
    "        - Valida que cumpla con la expresión regular; si no cumple, envía el mensaje correspondiente y vuelve a preguntar.\n",
    "        - Si el dato es numérico convierte el dato capturado a su equivalente numérico, usando la variable del dato.\n",
    "        - Si el dato es numérico, valida que no sea negativo.\n",
    "        - En el caso del código, valida si las primeras dos letras son `MA`, y solo en ese caso será `True` el habilitador correspondiente al pedimento. Esto se puede hacer de manera simple, asignando al habilitador la condición de que si las dos primeras letras del código son `MA`.\n",
    "\n",
    "\n",
    "### PARTE 3\n",
    "\n",
    "- Agrega los condicionales a nivel forma.\n",
    "    - Compara si el precio máximo no es mayor o igual al precio mínimo, en cuyo caso, muestra el mensaje correspondiente y habilita los datos precio máximo y precio mínimo, para volverse a capturar.\n",
    "    \n",
    "- Evalúa la forma.\n",
    "    - En un condicional, revisa si al menos un campo está habilitado para captura (usa `or` con las variables habilitadoras); en caso de que un campo deba ser capturado de nuevo, se inicia de nuevo el `while`, que preguntará solo los campos habilitados; de lo contrario, quiere decir que los datos están correctos, y se sale de la forma.\n",
    "    "
   ]
  },
  {
   "cell_type": "code",
   "execution_count": 5,
   "id": "e7eb7b57",
   "metadata": {},
   "outputs": [
    {
     "name": "stdout",
     "output_type": "stream",
     "text": [
      "Fin de la forma\n"
     ]
    }
   ],
   "source": [
    "# PARTE 2:\n",
    "\n",
    "# Declara aquí un while infinito, general.\n",
    "\n",
    "    \n",
    "    # Captura de campos.\n",
    "    # Aquí abre un condicional, que evalúe si está habilitada la\n",
    "    # captura para el campo código. Utiliza la variable\n",
    "    # habilitadora para dicho campo. (if)\n",
    "    \n",
    "        \n",
    "        # Si llegas aquí, es que la habilitadora para el campo\n",
    "        # codigo era True. Aquí, pregunta el código (input), asignando\n",
    "        # el valor a la variable para el manejo del dato.\n",
    "        \n",
    "        \n",
    "        # Caprutado el dato, evalúa los criterios de validación.\n",
    "        # El código no debe omitirse. En caso de fallar, manda mensaje\n",
    "        # y continue.\n",
    "\n",
    "            \n",
    "        # El código debe cuplir con la expresión regular. En caso\n",
    "        # de fallar, manda mensaje, y continue.\n",
    "\n",
    "        \n",
    "        # El habilitador del dato pedimento es igual al valor \n",
    "        # booleano que corresponde a si la expresión \"MA\" está\n",
    "        # en lo capturado en el código.\n",
    "\n",
    "        \n",
    "        \n",
    "        # Si llega aquí, es que todo transcurrió bien, así que pone\n",
    "        # el habilitador del campo código en False.\n",
    "\n",
    "        \n",
    "    \n",
    "    # Repetir lo que se hizo con el campo código, pero con el campo\n",
    "    # descripcion.\n",
    "\n",
    "    \n",
    "\n",
    "    # Repetir lo que se hizo con el campo código, pero con el campo\n",
    "    # pedimento. Solo se valida que no se omita, y que cumpla con su\n",
    "    # expresión regular.\n",
    "\n",
    "    \n",
    "\n",
    "    # Repetir lo que se hizo con el campo código, pero con el campo\n",
    "    # precio_minimo. Toma en cuenta que al ser numérico, requieres\n",
    "    # preguntar en forma string, y luego convertir a float. \n",
    "    # Se valida que no se omita, que cumpla con su expresión regular,\n",
    "    # y que sea mayor a cero.\n",
    "\n",
    "    \n",
    "    \n",
    "    # Repetir lo que se hizo con el campo código, pero con el campo\n",
    "    # precio_máximo. Toma en cuenta que al ser numérico, requieres\n",
    "    # preguntar en forma string, y luego convertir a float. \n",
    "    # Se valida que no se omita, que cumpla con su expresión regular,\n",
    "    # y que sea mayor a cero.\n",
    "\n",
    "    \n",
    "\n",
    "    # PARTE 3\n",
    "    # Validación de forma.\n",
    "    # Realiza la validación que involucra más de un campo.\n",
    "    # Si el precio máximo no es mayor o igual al mínimo,\n",
    "    # se debe mostrar el mensaje de error, y se debe\n",
    "    # asignar True a las variables habilitadoras de precio\n",
    "    # máximo y precio mínimo, para que se vuelvan a capturar.\n",
    "    # Se instruye continue.\n",
    "\n",
    "    \n",
    "    \n",
    "    # Evaluación de forma.\n",
    "    # Si cualquiera de las habilitadoras es True (usa or)\n",
    "    # se debe indicar continue, o de lo contrario, quiere \n",
    "    # decir que todo está bien, así que se instruye break\n",
    "    # para concluir con la captura.\n",
    "\n",
    "    \n",
    "        \n",
    "# Fin de la forma\n",
    "print(\"Fin de la forma\")\n",
    "\n",
    "# Prueba capturando un código erroneo.\n",
    "# Prueba capturando un código de maquinaria (inicia con MA)\n",
    "# para que pregunte pedimento.\n",
    "# Prueba capturando un código de insumo (inicia con IN)\n",
    "# para que no pregunte pedimento.\n",
    "# Prueba con un precio mínimo de 1000.00, y un máximo de 100.00\n",
    "# y luego inviértelos."
   ]
  }
 ],
 "metadata": {
  "kernelspec": {
   "display_name": "Python 3 (ipykernel)",
   "language": "python",
   "name": "python3"
  },
  "language_info": {
   "codemirror_mode": {
    "name": "ipython",
    "version": 3
   },
   "file_extension": ".py",
   "mimetype": "text/x-python",
   "name": "python",
   "nbconvert_exporter": "python",
   "pygments_lexer": "ipython3",
   "version": "3.10.9"
  }
 },
 "nbformat": 4,
 "nbformat_minor": 5
}
