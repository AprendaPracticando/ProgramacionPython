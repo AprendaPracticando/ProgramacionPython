{
 "cells": [
  {
   "cell_type": "markdown",
   "id": "134d7482",
   "metadata": {},
   "source": [
    "---\n",
    "\n",
    "# **LAB Agenda persistente usando archivos CSV y serialización JSON - Inicio**\n",
    "\n",
    "---\n",
    "\n",
    "> En este LAB se explora forma en que se puede tener información persistente en archivos planos, y la forma en que se puede serializar la información usando archivos CSV y JSON.\n"
   ]
  },
  {
   "cell_type": "markdown",
   "id": "c6356581",
   "metadata": {},
   "source": [
    "Se tiene una agenda que contiene los siguentes campos: `correo`, `nombre`, y `teléfono`.\n",
    "\n",
    "Los regisros iniciales se tienen en una lista llamada `Entradas`:\n",
    "\n",
    "|correo|nombre|telefono|\n",
    "|:---|:---|:---|\n",
    "|juan@gmail.com|Juan|8123232323|\n",
    "|maria@gmail.com|Maria|5545454545|\n",
    "|diana@outlook.com|Diana|44909090|"
   ]
  },
  {
   "cell_type": "code",
   "execution_count": null,
   "id": "4f5a2b5f",
   "metadata": {},
   "outputs": [],
   "source": [
    "# Datos iniciales. Carga y mostrado.\n",
    "Entradas=[\n",
    "    ['correo','nombre','telefono'],\n",
    "    ['juan@gmail.com','Juan','8123232323'],\n",
    "    ['maria@gmail.com','Maria','5545454545'],\n",
    "    ['diana@homail.com','Diana','4490909090']\n",
    "]\n",
    "\n",
    "# Muestra el contenido de la lista de listas, usando pipe\n",
    "# como separador entre campos y valores.\n",
    "\n"
   ]
  },
  {
   "cell_type": "markdown",
   "id": "7d70d769",
   "metadata": {},
   "source": [
    "Toma en cuenta que `Entradas` es una lista cuyos elementos son listas también.\n",
    "\n",
    "Se desea almacenar la información de manera persistente en un archivo CSV (_comma separated values_), de forma manual, y en un archivo JSON.\n",
    "\n",
    "Se trabajará con los siguientes archivos:\n",
    "- `agenda.csv`: Es el archivo de datos, en formato CSV.\n",
    "- `agenda.json`: Es el arvhivo de datos, en formato JSON.\n",
    "- `agenda.csv.bak`: Es el respaldo del archivo de datos CSV.\n",
    "- `agenda.json.bak`: Es el respaldo del archivo de datos JSON.\n",
    "\n"
   ]
  },
  {
   "cell_type": "markdown",
   "id": "4a8b7763",
   "metadata": {},
   "source": [
    "## PARTE 1: Trabajo con archivos CSV\n",
    "\n"
   ]
  },
  {
   "cell_type": "markdown",
   "id": "fbf6f66a",
   "metadata": {},
   "source": [
    "### Eliminación y renombrado de archivos\n",
    "\n",
    "Tareas por hacer:\n",
    "1. Importa las librerías requeridas para el manejo de archivos.\n",
    "1. Muestra el directorio actual de trabajo (_Current Working Directory_).\n",
    "1. Si existen los archivos de respaldo, elimínalos.\n",
    "1. Si existen los archivos de datos, renómbralos para que sean de respaldo."
   ]
  },
  {
   "cell_type": "code",
   "execution_count": null,
   "id": "d896a365",
   "metadata": {},
   "outputs": [],
   "source": [
    "# Importar el módulo requerido para el manejo de archivos.\n",
    "\n",
    "\n",
    "\n",
    "# Muestra el directorio actual de trabajo. Utiliza getcwd()\n",
    "\n"
   ]
  },
  {
   "cell_type": "code",
   "execution_count": null,
   "id": "36033cd4",
   "metadata": {},
   "outputs": [],
   "source": [
    "# Verifica si existen los archivos de respaldo (agenda.csv.bak, y agenda.json.back), \n",
    "# en cuyo caso, se eliminan. Usa exists() y remove()\n",
    "\n",
    "\n",
    "\n",
    "\n",
    "# Verifica si existen los archivos de trabajo con datos (agenda.csv, y \n",
    "# agenda.json), en cuyo caso, se renombran a sus equivalentes de respaldo. \n",
    "# Usa exists() y rename()\n",
    "\n",
    "\n",
    "# Este código no genera salidas."
   ]
  },
  {
   "cell_type": "markdown",
   "id": "b96c0425",
   "metadata": {},
   "source": [
    "### Escritura de archivos a partir de listas (lista a CSV)\n",
    "\n",
    "Realiza las sigientes acciones:\n",
    "- Abre el archivo de datos CSV, en modo Write Extended. Usa `open()` con el modo `w+`.\n",
    "- Escribe el encabezado del archivo CSV. Los campos son `correo`, `nombre` y `telefono`. Usa `write()`.\n",
    "- Escribe una línea del CSV por cada elemento de la lista. Usa `write()`.\n",
    "- No olvides que CSV delimita las columnas usando pipe line (`|`), incluso al inicio y al final.\n",
    "- No olvides colocar `\\n` al final de cada línea, para provocar el salto de línea."
   ]
  },
  {
   "cell_type": "code",
   "execution_count": null,
   "id": "60be24c6",
   "metadata": {},
   "outputs": [],
   "source": [
    "# Abrir el archivo de datos CSV como Write Extended. \n",
    "# Usar como apuntador de archivo \"f\".\n",
    "# usa open() y el modo w+\n",
    "\n",
    "\n",
    "# Escribir los datos de la lista, como datos del CSV\n",
    "# Usa for para leer la lista secuencialmente.\n",
    "# Apóyate en F-String para el formato.\n",
    "# No olvides el salto de línea (\\n).\n",
    "\n",
    "\n",
    "# No olvides cerrar el archivo\n",
    "\n",
    "\n",
    "# Comprueba en tu directorio de trabajo, si ya existe el\n",
    "# archivo de datos CSV.\n",
    "\n",
    "# Este código no genera salidas."
   ]
  },
  {
   "cell_type": "markdown",
   "id": "4c732bd6",
   "metadata": {},
   "source": [
    "### Lectura de archivos y carga de datos en listas (CSV a lista)\n",
    "\n",
    "Acciones por hacer:\n",
    "1. Lee todo el contenido del archivo de datos CSV, y muéstralo.\n",
    "1. Lee línea por línea el archivo, y cárgalo en una lista."
   ]
  },
  {
   "cell_type": "code",
   "execution_count": null,
   "id": "f95ae0b0",
   "metadata": {},
   "outputs": [],
   "source": [
    "# Abre el archivo de datos agenda.csv, en modo de solo lectura.\n",
    "# Usa f como apuntador de archivo. Usa open() en modo r.\n",
    "\n",
    "\n",
    "\n",
    "# Lee el contenido del archivo y colócalo en una variable\n",
    "# llamada contenido. Utiliza read().\n",
    "\n",
    "\n",
    "# Cierra el archivo. Utiliza close()\n",
    "\n",
    "\n",
    "# Muestra el contenido del archivo, que ya tienes en una variable.\n",
    "\n"
   ]
  },
  {
   "cell_type": "code",
   "execution_count": null,
   "id": "8449b454",
   "metadata": {},
   "outputs": [],
   "source": [
    "# Genera una lista vacía llamada Contactos\n",
    "\n",
    "\n",
    "# Abrir el archivo de datos agenda.csv, en modo de solo lectura.\n",
    "# usa open, en modo r.\n",
    "\n",
    "\n",
    "# Elabora un ciclo for, que coloque en una variable llamada\n",
    "# linea a cada una de las líneas en el archivo apuntado\n",
    "# como f. Recuerda que leer un archivo plano con for equivale\n",
    "# a leerlo línea por línea.\n",
    "\n",
    "    \n",
    "    # Asigna a una variable llamada lista_datos, el equivalente\n",
    "    # en lista del contenido de datos, usando como separador \n",
    "    # el pipe line. Usa split(), con \"|\" como delimitador.\n",
    "\n",
    "    \n",
    "    # Elimina el salto de línea del último elemento de la lista\n",
    "\n",
    "    \n",
    "    # Agrega la lista de datos contenida en lista_datos\n",
    "    # a la lista Contactos\n",
    "\n",
    "    \n",
    "# Cerrar archivo\n",
    "\n",
    "\n",
    "# Imprime Entradas y Contactos, y comprueba que son iguales\n"
   ]
  },
  {
   "cell_type": "markdown",
   "id": "23095c0b",
   "metadata": {},
   "source": [
    "## PARTE 2: Serialización JSON\n",
    "\n",
    "Acciones a desarrollar:\n",
    "- Importar la librería para el manejo de formato JSON\n",
    "- Serializar una lista en formato JSON.\n",
    "- Guardar la serialización JSON en un archivo.\n",
    "- Cargar el contenido JSON a una lista."
   ]
  },
  {
   "cell_type": "markdown",
   "id": "4da842ac",
   "metadata": {},
   "source": [
    "### Serializar a JSON"
   ]
  },
  {
   "cell_type": "code",
   "execution_count": null,
   "id": "c10c8742",
   "metadata": {},
   "outputs": [],
   "source": [
    "# Importa la librería para el soporte JSON\n",
    "\n",
    "\n",
    "# Almacena en una variable llamada datos_json, que almacene\n",
    "# la equivalencia JSON del objeto Contactos. Utiliza dumps().\n",
    "# Proporciona formato con identación a 4 posiciones.\n",
    "\n",
    "\n",
    "# Muestra el contenido serializado.\n"
   ]
  },
  {
   "cell_type": "markdown",
   "id": "3449ab15",
   "metadata": {},
   "source": [
    "### Crear un archivo JSON"
   ]
  },
  {
   "cell_type": "code",
   "execution_count": null,
   "id": "2c7a453a",
   "metadata": {},
   "outputs": [],
   "source": [
    "# Guarda la serialización en un archivo como agenda.json.\n",
    "# Utiliza open() en modo Write Extended.\n",
    "# Usa f como apuntador de archivo.\n",
    "\n",
    "\n",
    "# Este código no genera salidas."
   ]
  },
  {
   "cell_type": "markdown",
   "id": "39064637",
   "metadata": {},
   "source": [
    "### Leer archivo JSON (JSON a lista)"
   ]
  },
  {
   "cell_type": "code",
   "execution_count": null,
   "id": "edca7d40",
   "metadata": {
    "scrolled": true
   },
   "outputs": [],
   "source": [
    "# Abrir el archivo de datos agenda.json, en modo de solo lectura.\n",
    "# Usa open(), en modo r. Usa el apuntador de archivo f.\n",
    "\n",
    "\n",
    "# Carga el contenido JSON en una lista. Usa loads() y read().\n",
    "# Almacena la lectura en una variable llamada Contactos_JSON.\n",
    "\n",
    "\n",
    "# Imprime Entradas, Contactos y Contactos JSON.\n",
    "# Comprueba que son iguales.\n",
    "\n"
   ]
  },
  {
   "cell_type": "markdown",
   "id": "0918abc1",
   "metadata": {},
   "source": [
    "## PARTE 3: Serialización pickle en forma abreviada\n",
    "\n",
    "Acciones a desarrollar:\n",
    "- Importar la librería para el manejo de formato pickle.\n",
    "- Serializar una lista en formato pickle, a archivo.\n",
    "- Cargar el contenido del archivo pickle a una lista llamada recuperada.\n",
    "- Usar en todo momento with\n",
    "- Revisar que pickle es un formato binario\n",
    "- Comparar el objeto inicial con el objeto final.\n"
   ]
  },
  {
   "cell_type": "code",
   "execution_count": null,
   "id": "435b6e94",
   "metadata": {},
   "outputs": [],
   "source": [
    "# Importar los módulos para trabajar con pickle y con archivos\n"
   ]
  },
  {
   "cell_type": "code",
   "execution_count": null,
   "id": "e72f14e4",
   "metadata": {},
   "outputs": [],
   "source": [
    "# Datos iniciales. Carga y mostrado.\n",
    "Entradas=[\n",
    "    ['correo','nombre','telefono'],\n",
    "    ['juan@gmail.com','Juan','8123232323'],\n",
    "    ['maria@gmail.com','Maria','5545454545'],\n",
    "    ['diana@homail.com','Diana','4490909090']\n",
    "]\n",
    "\n",
    "# Muestra el contenido y el tipo del objeto Entradas, que es el \n",
    "# objeto que deseamos serializar y transportar.\n"
   ]
  },
  {
   "cell_type": "code",
   "execution_count": null,
   "id": "52207104",
   "metadata": {},
   "outputs": [],
   "source": [
    "# Serializa Entradas, usando un archivo pickle llamado \n",
    "# Entradas.pickle. Recuerda que pickle es formato binario\n",
    "# por lo que el tipo de contenido debe ser binario, al escribir.\n",
    "# Utilza with, open() en modo Write Binary Extended, y dump(), para\n",
    "# el manejo de pickle con archivos.\n",
    "\n",
    "    \n",
    "# Revisa el archivo .pickle que se ha creado, y comprueba que es\n",
    "# binario."
   ]
  },
  {
   "cell_type": "code",
   "execution_count": null,
   "id": "0e21c683",
   "metadata": {},
   "outputs": [],
   "source": [
    "# Recupera el contenido del archivo Entradas.pickle, y asígnalo a una\n",
    "# lista llamada Recuperado. Recuerda que pickle es formato binario\n",
    "# por lo que el tipo de contenido debe ser binario, al leer.\n",
    "# Utilza with, open() en modo Read Binary, y load(), para\n",
    "# el manejo de pickle con archivos.\n"
   ]
  },
  {
   "cell_type": "code",
   "execution_count": null,
   "id": "284baf77",
   "metadata": {},
   "outputs": [],
   "source": [
    "# Compara el objeto Entradas con el objeto Recuperado\n",
    "# deben ser iguales.\n"
   ]
  }
 ],
 "metadata": {
  "kernelspec": {
   "display_name": "Python 3 (ipykernel)",
   "language": "python",
   "name": "python3"
  },
  "language_info": {
   "codemirror_mode": {
    "name": "ipython",
    "version": 3
   },
   "file_extension": ".py",
   "mimetype": "text/x-python",
   "name": "python",
   "nbconvert_exporter": "python",
   "pygments_lexer": "ipython3",
   "version": "3.10.9"
  }
 },
 "nbformat": 4,
 "nbformat_minor": 5
}
