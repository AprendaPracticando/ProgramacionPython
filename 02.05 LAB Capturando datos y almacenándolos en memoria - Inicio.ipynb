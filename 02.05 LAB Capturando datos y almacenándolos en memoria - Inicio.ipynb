{
 "cells": [
  {
   "cell_type": "markdown",
   "id": "50f9730b",
   "metadata": {},
   "source": [
    "---\n",
    "\n",
    "# **LAB: Capturando datos y almacenándolos en memoria - Inicio**\n",
    "\n",
    "---\n",
    "\n",
    "> En este LAB se explora la declaración de variables, el ingreso de datos, y las conversiones entre tipos de datos.\n"
   ]
  },
  {
   "cell_type": "code",
   "execution_count": 1,
   "id": "af3b8de2",
   "metadata": {},
   "outputs": [],
   "source": [
    "# PARTE 1:\n",
    "\n",
    "# Declaración de variables\n",
    "\n",
    "# Se desea trabajar con los datos de un empleado. \n",
    "# Se desea almacenar su número de empleado, su nombre, \n",
    "# su altura en metros, y su estado, es decir, si está activo o no.\n",
    "\n",
    "# Declara una variable para cada dato.\n",
    "# Asigna un identificador adecuado, y asígna un valor\n",
    "# que defina el tipo de dato adecuado.\n",
    "\n",
    "\n"
   ]
  },
  {
   "cell_type": "code",
   "execution_count": 2,
   "id": "7685ca38",
   "metadata": {},
   "outputs": [],
   "source": [
    "# Imprime el datatype de cada una de las variables.\n"
   ]
  },
  {
   "cell_type": "code",
   "execution_count": 3,
   "id": "6e488f2f",
   "metadata": {},
   "outputs": [],
   "source": [
    "# PARTE 2\n",
    "\n",
    "# Recopila el nombre y el número de empleado.\n",
    "# Como prueba captura \"Juan\", y \"1234\"\n",
    "\n",
    "# Toma en cuenta que la variable numero_empleado es int, y lo que se\n",
    "# recopila es str, por lo que es necesario hacer la conversión.\n",
    "\n",
    "# Puede hacerse en la misma línea, aunque lo recomendable es usar\n",
    "# una variable auxiliar.\n",
    "\n",
    "# Imprime el nombre y el número de empleado, en una sola línea.\n",
    "\n"
   ]
  },
  {
   "cell_type": "code",
   "execution_count": 4,
   "id": "16f87bad",
   "metadata": {},
   "outputs": [],
   "source": [
    "# PARTE 3\n",
    "\n",
    "# Modifica la línea de impresión que muestra el nombre y el número de empleado.\n",
    "\n",
    "# Utiliza F-String, y haz que el nombre aparezca tal cual, y que el número de\n",
    "# empleado aparezca en formato de 6 posiciones, rellenado con ceros a la izquierda\n",
    "# en caso de que el número no sea de 6 dígitos.\n",
    "\n"
   ]
  }
 ],
 "metadata": {
  "kernelspec": {
   "display_name": "Python 3 (ipykernel)",
   "language": "python",
   "name": "python3"
  },
  "language_info": {
   "codemirror_mode": {
    "name": "ipython",
    "version": 3
   },
   "file_extension": ".py",
   "mimetype": "text/x-python",
   "name": "python",
   "nbconvert_exporter": "python",
   "pygments_lexer": "ipython3",
   "version": "3.10.9"
  }
 },
 "nbformat": 4,
 "nbformat_minor": 5
}
