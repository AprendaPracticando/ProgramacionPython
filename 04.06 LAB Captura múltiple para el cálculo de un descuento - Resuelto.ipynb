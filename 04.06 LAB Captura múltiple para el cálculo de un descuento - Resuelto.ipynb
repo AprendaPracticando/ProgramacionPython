{
 "cells": [
  {
   "cell_type": "markdown",
   "id": "ba6cddbf",
   "metadata": {},
   "source": [
    "---\n",
    "\n",
    "# **Captura múltiple para el cálculo de un descuento - Resuelto**\n",
    "\n",
    "---\n",
    "\n",
    "> En este LAB se explora el uso de las estructuras de decisión y control, para la construcción de algoritmos de automatización.\n"
   ]
  },
  {
   "cell_type": "markdown",
   "id": "7fed8eaf",
   "metadata": {},
   "source": [
    "Imagina que una tienda departamental ofrece descuentos atendiendo a dos factores: a) La antiguedad del cliente; y b) El monto acumulado de las compras. El programa deberá preguntar primeramente la antigüedad de cliente, y luego una serie de compras que desea realizar.\n",
    "\n",
    "***PARTE 1:***\n",
    "\n",
    "- Define una variable para almacenar el monto acumulado de las compras.\n",
    "- Pregunta la antiguedad. Debe ser un número entero (años)."
   ]
  },
  {
   "cell_type": "code",
   "execution_count": null,
   "id": "2d4ae8d9",
   "metadata": {},
   "outputs": [],
   "source": [
    "# Declara una variable, llamada acumulado, para mantener el acumulado\n",
    "acumulado=0.0\n",
    "\n",
    "# Se pregunta la antiguedad. Usa dos variables: Antiguedad, y antiguedad.\n",
    "Antiguedad=input(\"Cuál es la antiguedad del cliente: \")\n",
    "antiguedad=int(Antiguedad)"
   ]
  },
  {
   "cell_type": "markdown",
   "id": "f9991eb1",
   "metadata": {},
   "source": [
    "***PARTE 2:***\n",
    "- Define un ciclo infinito (`while True`).\n",
    "- Pregunta el monto de una compra.\n",
    "- Si se omite el monto, sal del ciclo infinito.\n",
    "- Convierte lo capturado a formato numérico.\n",
    "- Acumula el monto de la compra (utiliza `+=`)\n",
    "- Imprime el monto acumulado de compras, en formato moneda."
   ]
  },
  {
   "cell_type": "code",
   "execution_count": null,
   "id": "b316aa2f",
   "metadata": {},
   "outputs": [],
   "source": [
    "# Inicia el ciclo infinito.\n",
    "while True: \n",
    "    # Se pregunta el monto.\n",
    "    Monto=input(\"Cuál es el monto del producto: \")\n",
    "    \n",
    "    # Si se omite el monto, sal del ciclo infinito.\n",
    "    if (Monto==\"\"):\n",
    "        break\n",
    "    \n",
    "    # Si llega aquí, es que no se omitió el monto.\n",
    "    # Convierte lo capturado a flotante.\n",
    "    monto=float(Monto)\n",
    "    \n",
    "    # Acumula lo capturado. Utiliza el operador +=\n",
    "    acumulado+=monto\n",
    "    \n",
    "    # Utilizando F-String, muestra el monto acumulado. Incluye símbolo\n",
    "    # de moneda, división por comas para los miles, y dos decimales\n",
    "    # flotantes.\n",
    "    \n",
    "    print(f\"El monto de compra acumulado es de ${acumulado:,.2f}\")"
   ]
  },
  {
   "cell_type": "markdown",
   "id": "91390f8c",
   "metadata": {},
   "source": [
    "***PARTE 3:***\n",
    "- Declara una variable para almacenar el descuento acumulado.\n",
    "- Evalúa si la antiguedad es menor a 3, en cuyo caso, no aplica descuento.\n",
    "- Muestra el descuento acumulado. Usa formato porcentual.\n",
    "- Por el contrario:\n",
    "    - Usando forma recortada, aumenta 5% de descuento su el monto es mayor a 50000, o si no, aumenta 2% al descuento.\n",
    "    - Usa un `if` anidado. Si antiguedad es mayor a 5, acumula 10% más de descuento.\n",
    "    - Usa `elif`. Si antiguedad está entre 3 y 5, acumula 5% más de descuento.\n",
    "    - En todos los casos, muestra el descuento acumulado. Usa formato porcentual."
   ]
  },
  {
   "cell_type": "code",
   "execution_count": null,
   "id": "058c133e",
   "metadata": {},
   "outputs": [],
   "source": [
    "# Declara la variable para almacenar el descuento acumulado.\n",
    "descuento=0.0\n",
    "\n",
    "# Si la antiguedad es menor a 3 no aplica descuento, e imprime el\n",
    "# descuento acumulado, en formato de porcentaje.\n",
    "if (antiguedad<3):\n",
    "    print(f\"Descuento acumulado {descuento:.0%}\")\n",
    "    \n",
    "# De lo contrario.\n",
    "else:\n",
    "    \n",
    "    # Usando la forma recortada de if, auméntale un 5% al descuento, si el acumulado\n",
    "    # es mayor a 50,000 o si no, auméntale un 2%\n",
    "    descuento=descuento+0.05 if (acumulado>50000) else descuento+0.02\n",
    "    \n",
    "    # Si la antigüedad es mayor a 5, auméntale un 10% al descuento.\n",
    "    if (antiguedad>5):\n",
    "        descuento+=0.10\n",
    "    # De lo contrario y si la antigüedad está entre 3 y 5\n",
    "    # aumenta un 5%\n",
    "    elif (antiguedad>=3 and antiguedad<=5):\n",
    "        descuento+=0.05\n",
    "    \n",
    "    # Imprime el descuento acumulado, con formato porcencual.\n",
    "    print(f\"Descuento acumulado {descuento:.0%}\")"
   ]
  },
  {
   "cell_type": "markdown",
   "id": "cc647d27",
   "metadata": {},
   "source": [
    "- Prueba con 2 años de antiguedad, con 100,000 de monto (40,000+40,000+20,000). Debe dar 0%.\n",
    "- Prueba con 4 años de antiguedad, con 30,000 de monto. Debe dar 7%.\n",
    "- Prueba con 6 años de antiguedad, con 100,000 de monto. Debe dar 15%.\n"
   ]
  }
 ],
 "metadata": {
  "kernelspec": {
   "display_name": "Python 3 (ipykernel)",
   "language": "python",
   "name": "python3"
  },
  "language_info": {
   "codemirror_mode": {
    "name": "ipython",
    "version": 3
   },
   "file_extension": ".py",
   "mimetype": "text/x-python",
   "name": "python",
   "nbconvert_exporter": "python",
   "pygments_lexer": "ipython3",
   "version": "3.10.9"
  }
 },
 "nbformat": 4,
 "nbformat_minor": 5
}
